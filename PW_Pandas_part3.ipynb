{
  "nbformat": 4,
  "nbformat_minor": 0,
  "metadata": {
    "colab": {
      "provenance": [],
      "authorship_tag": "ABX9TyP24j6xBisFbqI0FqMHP4vH",
      "include_colab_link": true
    },
    "kernelspec": {
      "name": "python3",
      "display_name": "Python 3"
    },
    "language_info": {
      "name": "python"
    }
  },
  "cells": [
    {
      "cell_type": "markdown",
      "metadata": {
        "id": "view-in-github",
        "colab_type": "text"
      },
      "source": [
        "<a href=\"https://colab.research.google.com/github/Yasha-Wadhawan/PW/blob/main/PW_Pandas_part3.ipynb\" target=\"_parent\"><img src=\"https://colab.research.google.com/assets/colab-badge.svg\" alt=\"Open In Colab\"/></a>"
      ]
    },
    {
      "cell_type": "code",
      "execution_count": null,
      "metadata": {
        "id": "VS3KlHuJX7ez"
      },
      "outputs": [],
      "source": [
        "import pandas as pd"
      ]
    },
    {
      "cell_type": "markdown",
      "source": [
        "# this notebook is about series and its operation"
      ],
      "metadata": {
        "id": "IIbOwwXwjSD_"
      }
    },
    {
      "cell_type": "code",
      "source": [
        "df = pd.read_csv(\"https://raw.githubusercontent.com/datasciencedojo/datasets/master/titanic.csv\")"
      ],
      "metadata": {
        "id": "aTFcpsJBYSKo"
      },
      "execution_count": null,
      "outputs": []
    },
    {
      "cell_type": "code",
      "source": [
        "df.columns"
      ],
      "metadata": {
        "colab": {
          "base_uri": "https://localhost:8080/"
        },
        "id": "AO2CU6RMZH4T",
        "outputId": "a750b23d-f727-41f5-c7dd-1ec4188fb121"
      },
      "execution_count": null,
      "outputs": [
        {
          "output_type": "execute_result",
          "data": {
            "text/plain": [
              "Index(['PassengerId', 'Survived', 'Pclass', 'Name', 'Sex', 'Age', 'SibSp',\n",
              "       'Parch', 'Ticket', 'Fare', 'Cabin', 'Embarked'],\n",
              "      dtype='object')"
            ]
          },
          "metadata": {},
          "execution_count": 31
        }
      ]
    },
    {
      "cell_type": "code",
      "source": [
        "s = df['Name'][0:10]                          # now here s is series   in series we have INDEX  and one column         in list we dont have index"
      ],
      "metadata": {
        "id": "KRyXXj0FZQs0"
      },
      "execution_count": null,
      "outputs": []
    },
    {
      "cell_type": "code",
      "source": [
        "type(s)"
      ],
      "metadata": {
        "colab": {
          "base_uri": "https://localhost:8080/"
        },
        "id": "-JBCAX4kaAcI",
        "outputId": "419f0d79-6b4a-48cd-bc3d-5f771abe11da"
      },
      "execution_count": null,
      "outputs": [
        {
          "output_type": "execute_result",
          "data": {
            "text/plain": [
              "pandas.core.series.Series"
            ]
          },
          "metadata": {},
          "execution_count": 33
        }
      ]
    },
    {
      "cell_type": "code",
      "source": [
        "s"
      ],
      "metadata": {
        "id": "Jp1jZalaZTO1",
        "colab": {
          "base_uri": "https://localhost:8080/"
        },
        "outputId": "cdc4a78c-8503-4d69-c527-fadb6a736b39"
      },
      "execution_count": null,
      "outputs": [
        {
          "output_type": "execute_result",
          "data": {
            "text/plain": [
              "0                              Braund, Mr. Owen Harris\n",
              "1    Cumings, Mrs. John Bradley (Florence Briggs Th...\n",
              "2                               Heikkinen, Miss. Laina\n",
              "3         Futrelle, Mrs. Jacques Heath (Lily May Peel)\n",
              "4                             Allen, Mr. William Henry\n",
              "5                                     Moran, Mr. James\n",
              "6                              McCarthy, Mr. Timothy J\n",
              "7                       Palsson, Master. Gosta Leonard\n",
              "8    Johnson, Mrs. Oscar W (Elisabeth Vilhelmina Berg)\n",
              "9                  Nasser, Mrs. Nicholas (Adele Achem)\n",
              "Name: Name, dtype: object"
            ]
          },
          "metadata": {},
          "execution_count": 34
        }
      ]
    },
    {
      "cell_type": "markdown",
      "source": [
        "# How to change the default index and give out own index (named index)"
      ],
      "metadata": {
        "id": "1Y6DRjGeayk1"
      }
    },
    {
      "cell_type": "code",
      "source": [
        "l = ['yasha','b', 'c', 'd', 'e', 'f', 'g', 'h','i','j']                   # this is the list"
      ],
      "metadata": {
        "id": "U4hGM_SvZ4ab"
      },
      "execution_count": null,
      "outputs": []
    },
    {
      "cell_type": "code",
      "source": [
        "s1 = pd.Series(list(s), index = l)                                           # this will not permanentely change the series\n",
        "#pd.Series(s, index = l)\n",
        "#pd.Series(s, index = None)"
      ],
      "metadata": {
        "id": "O7dF2FvTbSWJ"
      },
      "execution_count": null,
      "outputs": []
    },
    {
      "cell_type": "code",
      "source": [
        "s1"
      ],
      "metadata": {
        "id": "mnueOMqvlnRg",
        "colab": {
          "base_uri": "https://localhost:8080/"
        },
        "outputId": "7d7acded-0205-40e3-ad12-f64876a210fd"
      },
      "execution_count": null,
      "outputs": [
        {
          "output_type": "execute_result",
          "data": {
            "text/plain": [
              "yasha                              Braund, Mr. Owen Harris\n",
              "b        Cumings, Mrs. John Bradley (Florence Briggs Th...\n",
              "c                                   Heikkinen, Miss. Laina\n",
              "d             Futrelle, Mrs. Jacques Heath (Lily May Peel)\n",
              "e                                 Allen, Mr. William Henry\n",
              "f                                         Moran, Mr. James\n",
              "g                                  McCarthy, Mr. Timothy J\n",
              "h                           Palsson, Master. Gosta Leonard\n",
              "i        Johnson, Mrs. Oscar W (Elisabeth Vilhelmina Berg)\n",
              "j                      Nasser, Mrs. Nicholas (Adele Achem)\n",
              "dtype: object"
            ]
          },
          "metadata": {},
          "execution_count": 44
        }
      ]
    },
    {
      "cell_type": "code",
      "source": [
        "s1[0]                                       # even though in s1 names index is given but still it will remember defaut index"
      ],
      "metadata": {
        "id": "SwTZQvHElppy",
        "colab": {
          "base_uri": "https://localhost:8080/",
          "height": 36
        },
        "outputId": "5075f2d8-3ed5-4ade-d420-aff914af7f1c"
      },
      "execution_count": null,
      "outputs": [
        {
          "output_type": "execute_result",
          "data": {
            "text/plain": [
              "'Braund, Mr. Owen Harris'"
            ],
            "application/vnd.google.colaboratory.intrinsic+json": {
              "type": "string"
            }
          },
          "metadata": {},
          "execution_count": 45
        }
      ]
    },
    {
      "cell_type": "code",
      "source": [
        "s1['yasha']"
      ],
      "metadata": {
        "colab": {
          "base_uri": "https://localhost:8080/",
          "height": 36
        },
        "id": "7khq3nuRo6kE",
        "outputId": "1f92a25b-d670-4490-d78b-2dd37e0e315e"
      },
      "execution_count": null,
      "outputs": [
        {
          "output_type": "execute_result",
          "data": {
            "text/plain": [
              "'Braund, Mr. Owen Harris'"
            ],
            "application/vnd.google.colaboratory.intrinsic+json": {
              "type": "string"
            }
          },
          "metadata": {},
          "execution_count": 46
        }
      ]
    },
    {
      "cell_type": "code",
      "source": [
        "s2 = s1.append(s)                                         # with this append we can concatinate 2 or more index   and NOT a single element"
      ],
      "metadata": {
        "colab": {
          "base_uri": "https://localhost:8080/"
        },
        "id": "L08bJEP0o-fs",
        "outputId": "5f012932-f262-4582-a7dc-e8555bd6564f"
      },
      "execution_count": null,
      "outputs": [
        {
          "output_type": "stream",
          "name": "stderr",
          "text": [
            "<ipython-input-48-a96a20d80cdf>:1: FutureWarning: The series.append method is deprecated and will be removed from pandas in a future version. Use pandas.concat instead.\n",
            "  s2 = s1.append(s)                                         # with this append we can concatinate 2 or more index   and NOT a single element\n"
          ]
        }
      ]
    },
    {
      "cell_type": "code",
      "source": [
        "s2"
      ],
      "metadata": {
        "colab": {
          "base_uri": "https://localhost:8080/"
        },
        "id": "BX597gfApo0D",
        "outputId": "ff15a061-c7e1-48b7-e9b1-1e7f91c553f8"
      },
      "execution_count": null,
      "outputs": [
        {
          "output_type": "execute_result",
          "data": {
            "text/plain": [
              "yasha                              Braund, Mr. Owen Harris\n",
              "b        Cumings, Mrs. John Bradley (Florence Briggs Th...\n",
              "c                                   Heikkinen, Miss. Laina\n",
              "d             Futrelle, Mrs. Jacques Heath (Lily May Peel)\n",
              "e                                 Allen, Mr. William Henry\n",
              "f                                         Moran, Mr. James\n",
              "g                                  McCarthy, Mr. Timothy J\n",
              "h                           Palsson, Master. Gosta Leonard\n",
              "i        Johnson, Mrs. Oscar W (Elisabeth Vilhelmina Berg)\n",
              "j                      Nasser, Mrs. Nicholas (Adele Achem)\n",
              "0                                  Braund, Mr. Owen Harris\n",
              "1        Cumings, Mrs. John Bradley (Florence Briggs Th...\n",
              "2                                   Heikkinen, Miss. Laina\n",
              "3             Futrelle, Mrs. Jacques Heath (Lily May Peel)\n",
              "4                                 Allen, Mr. William Henry\n",
              "5                                         Moran, Mr. James\n",
              "6                                  McCarthy, Mr. Timothy J\n",
              "7                           Palsson, Master. Gosta Leonard\n",
              "8        Johnson, Mrs. Oscar W (Elisabeth Vilhelmina Berg)\n",
              "9                      Nasser, Mrs. Nicholas (Adele Achem)\n",
              "dtype: object"
            ]
          },
          "metadata": {},
          "execution_count": 49
        }
      ]
    },
    {
      "cell_type": "markdown",
      "source": [
        "# NOW IF THE WE HAVE NAMED INDEX AS INTEGER SO IF WE CALL THE ELEMENT USING IT SO DEFAULT INDEX ELEMENT WILL BE SHOWN OR NAMED INDEX ELEMENT WILL BE SHOWN??\n",
        "\n",
        "if we have the list like index with from the beginning of the entire series"
      ],
      "metadata": {
        "id": "58WP9j2KvS6l"
      }
    },
    {
      "cell_type": "code",
      "source": [
        "s3 = pd.Series(['a', 'b', 'c', 'd', 'e'], index= [2,9,6,8,12])"
      ],
      "metadata": {
        "id": "1choQrVTrmzW"
      },
      "execution_count": null,
      "outputs": []
    },
    {
      "cell_type": "code",
      "source": [
        "s3[2]"
      ],
      "metadata": {
        "colab": {
          "base_uri": "https://localhost:8080/",
          "height": 36
        },
        "id": "zEaISgj00bnc",
        "outputId": "995d6874-256b-4c2e-ecec-7d599550221d"
      },
      "execution_count": null,
      "outputs": [
        {
          "output_type": "execute_result",
          "data": {
            "text/plain": [
              "'a'"
            ],
            "application/vnd.google.colaboratory.intrinsic+json": {
              "type": "string"
            }
          },
          "metadata": {},
          "execution_count": 68
        }
      ]
    },
    {
      "cell_type": "code",
      "source": [
        "s3[9]\n",
        "#s3[4]"
      ],
      "metadata": {
        "colab": {
          "base_uri": "https://localhost:8080/",
          "height": 36
        },
        "id": "YxGK7VTi0ku0",
        "outputId": "c7dff577-3c55-4d2d-c4a1-b9d31889dee3"
      },
      "execution_count": null,
      "outputs": [
        {
          "output_type": "execute_result",
          "data": {
            "text/plain": [
              "'b'"
            ],
            "application/vnd.google.colaboratory.intrinsic+json": {
              "type": "string"
            }
          },
          "metadata": {},
          "execution_count": 71
        }
      ]
    },
    {
      "cell_type": "code",
      "source": [
        "s4 = pd.Series(['f','g','h','i','j'])"
      ],
      "metadata": {
        "id": "iFT2qCo7wXNP"
      },
      "execution_count": null,
      "outputs": []
    },
    {
      "cell_type": "code",
      "source": [
        "s5 = s3.append(s4)"
      ],
      "metadata": {
        "colab": {
          "base_uri": "https://localhost:8080/"
        },
        "id": "1NakD9mlwjx6",
        "outputId": "029106b1-7525-4e54-b8ab-624c12077680"
      },
      "execution_count": null,
      "outputs": [
        {
          "output_type": "stream",
          "name": "stderr",
          "text": [
            "<ipython-input-61-97ef9bcb5afd>:1: FutureWarning: The series.append method is deprecated and will be removed from pandas in a future version. Use pandas.concat instead.\n",
            "  s5 = s3.append(s4)\n"
          ]
        }
      ]
    },
    {
      "cell_type": "code",
      "source": [
        "s5"
      ],
      "metadata": {
        "colab": {
          "base_uri": "https://localhost:8080/"
        },
        "id": "WLJBS0gVwtx7",
        "outputId": "eb7ed5d5-171b-440b-aefb-4da5daaca79e"
      },
      "execution_count": null,
      "outputs": [
        {
          "output_type": "execute_result",
          "data": {
            "text/plain": [
              "2     a\n",
              "4     b\n",
              "6     c\n",
              "8     d\n",
              "12    e\n",
              "0     f\n",
              "1     g\n",
              "2     h\n",
              "3     i\n",
              "4     j\n",
              "dtype: object"
            ]
          },
          "metadata": {},
          "execution_count": 62
        }
      ]
    },
    {
      "cell_type": "code",
      "source": [
        "s5[2]                                # now by putting integer in []   the named index is called"
      ],
      "metadata": {
        "colab": {
          "base_uri": "https://localhost:8080/"
        },
        "id": "MSz3do_6wx_O",
        "outputId": "6c8ffe75-5a27-4ea2-cbd3-d75c3bb69f9d"
      },
      "execution_count": null,
      "outputs": [
        {
          "output_type": "execute_result",
          "data": {
            "text/plain": [
              "2    a\n",
              "2    h\n",
              "dtype: object"
            ]
          },
          "metadata": {},
          "execution_count": 63
        }
      ]
    }
  ]
}