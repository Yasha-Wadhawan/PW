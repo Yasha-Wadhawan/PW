{
  "nbformat": 4,
  "nbformat_minor": 0,
  "metadata": {
    "colab": {
      "provenance": [],
      "authorship_tag": "ABX9TyPWpDqIvgJ55eixLw8yavN2",
      "include_colab_link": true
    },
    "kernelspec": {
      "name": "python3",
      "display_name": "Python 3"
    },
    "language_info": {
      "name": "python"
    }
  },
  "cells": [
    {
      "cell_type": "markdown",
      "metadata": {
        "id": "view-in-github",
        "colab_type": "text"
      },
      "source": [
        "<a href=\"https://colab.research.google.com/github/Yasha-Wadhawan/PW/blob/main/Numpy_fundamentals.ipynb\" target=\"_parent\"><img src=\"https://colab.research.google.com/assets/colab-badge.svg\" alt=\"Open In Colab\"/></a>"
      ]
    },
    {
      "cell_type": "code",
      "execution_count": null,
      "metadata": {
        "id": "LPLvphE3RFDN"
      },
      "outputs": [],
      "source": [
        "# numpy is the main buildig blocks of all the libraries related to data in python\n"
      ]
    },
    {
      "cell_type": "code",
      "source": [],
      "metadata": {
        "id": "L2IflfacNJlV"
      },
      "execution_count": null,
      "outputs": []
    },
    {
      "cell_type": "code",
      "source": [],
      "metadata": {
        "id": "Tm9m5W8Nht3R"
      },
      "execution_count": null,
      "outputs": []
    },
    {
      "cell_type": "code",
      "source": [
        "# NumPy Arrays\n",
        "# numpy array come in two parts 1 is one dimentional vectors  and 2nd is two dimentional matrix"
      ],
      "metadata": {
        "id": "bgXaWb_pU4BS"
      },
      "execution_count": null,
      "outputs": []
    },
    {
      "cell_type": "code",
      "source": [
        "# cast a normal python list into an array\n",
        "\n",
        "l1 = [1,2,3,4,5]\n",
        "import numpy as np\n",
        "print(np.array(l1))            # array\n",
        "print(l1)                      # list\n",
        "print(type(l1))\n",
        "\n",
        "arr = np.array(l1)\n",
        "print(arr)\n",
        "print(type(arr))\n"
      ],
      "metadata": {
        "id": "jdHGI0o5VFPh",
        "colab": {
          "base_uri": "https://localhost:8080/"
        },
        "outputId": "db2014f1-76c1-408f-d32d-bd4413ad1a87"
      },
      "execution_count": null,
      "outputs": [
        {
          "output_type": "stream",
          "name": "stdout",
          "text": [
            "[1 2 3 4 5]\n",
            "[1, 2, 3, 4, 5]\n",
            "<class 'list'>\n",
            "[1 2 3 4 5]\n",
            "<class 'numpy.ndarray'>\n"
          ]
        }
      ]
    },
    {
      "cell_type": "code",
      "source": [
        "# two dimentional array or matrix\n",
        "\n",
        "l2 = [[1,2,3],[4,5,6],[7,8,9],[0,0,0]]\n",
        "arr2 = np.array(l2)\n",
        "print(arr2)                 # the two brackets in the output proves that it is a tow d array or matrix\n",
        "print(type(arr2))\n",
        "\n"
      ],
      "metadata": {
        "colab": {
          "base_uri": "https://localhost:8080/"
        },
        "id": "LHeI3f_4qxZa",
        "outputId": "259654ce-ab54-4bda-c7f3-91b00bb7d669"
      },
      "execution_count": null,
      "outputs": [
        {
          "output_type": "stream",
          "name": "stdout",
          "text": [
            "[[1 2 3]\n",
            " [4 5 6]\n",
            " [7 8 9]\n",
            " [0 0 0]]\n",
            "<class 'numpy.ndarray'>\n"
          ]
        }
      ]
    },
    {
      "cell_type": "code",
      "source": [
        "# numpy built in generation methods to create arrays\n",
        "\n",
        "# most common way to create a numpy array is using\n",
        "print(np.arange(0,10))                                  # it is just like python range function\n",
        "print(np.arange(0,20,3))\n"
      ],
      "metadata": {
        "colab": {
          "base_uri": "https://localhost:8080/"
        },
        "id": "4_uvDL3EsGuD",
        "outputId": "8a76a67d-ccca-4ddf-d152-691fb42b1bc0"
      },
      "execution_count": null,
      "outputs": [
        {
          "output_type": "stream",
          "name": "stdout",
          "text": [
            "[0 1 2 3 4 5 6 7 8 9]\n",
            "[ 0  3  6  9 12 15 18]\n"
          ]
        }
      ]
    },
    {
      "cell_type": "code",
      "source": [
        "# some specific types of arrays"
      ],
      "metadata": {
        "id": "VFwlXYYYt7x8"
      },
      "execution_count": null,
      "outputs": []
    },
    {
      "cell_type": "code",
      "source": [
        "# arrays of all zeros\n",
        "print(np.zeros(3))\n",
        "print(\"\\n\")\n",
        "print(np.zeros((3,4)))                # 2 brackets will come in case of 2d array\n"
      ],
      "metadata": {
        "colab": {
          "base_uri": "https://localhost:8080/"
        },
        "id": "DuoGue4LudFp",
        "outputId": "8377ef0b-4d94-4f76-9ac5-ab6e2af54150"
      },
      "execution_count": null,
      "outputs": [
        {
          "output_type": "stream",
          "name": "stdout",
          "text": [
            "[0. 0. 0.]\n",
            "\n",
            "\n",
            "[[0. 0. 0. 0.]\n",
            " [0. 0. 0. 0.]\n",
            " [0. 0. 0. 0.]]\n"
          ]
        }
      ]
    },
    {
      "cell_type": "code",
      "source": [
        "# arrays of all ones\n",
        "print(np.ones(5))\n",
        "print(np.ones((5,7)))"
      ],
      "metadata": {
        "colab": {
          "base_uri": "https://localhost:8080/"
        },
        "id": "NVgi_NwhvWNX",
        "outputId": "621fad54-8398-4703-b425-39e60ba96c37"
      },
      "execution_count": null,
      "outputs": [
        {
          "output_type": "stream",
          "name": "stdout",
          "text": [
            "[1. 1. 1. 1. 1.]\n",
            "[[1. 1. 1. 1. 1. 1. 1.]\n",
            " [1. 1. 1. 1. 1. 1. 1.]\n",
            " [1. 1. 1. 1. 1. 1. 1.]\n",
            " [1. 1. 1. 1. 1. 1. 1.]\n",
            " [1. 1. 1. 1. 1. 1. 1.]]\n"
          ]
        }
      ]
    },
    {
      "cell_type": "code",
      "source": [
        "# linspace returns EVENLY SPACED numbers over a specified intervals\n",
        "# there is a difference bw a linspace and arrange function\n",
        "\n",
        "print(np.linspace(1,100,5))                             # in linspace np.linspace((start,end,num)) # here end number is included # num means The number of samples needed to generate within the interval. The default value is 50.\n",
        "# start and stop is compulsory rest all the parameters are optional\n",
        "\n",
        "print(np.linspace(1,100))              # and  keep in mind it is a 1D array as it has one bracket\n",
        "\n",
        "# the difference bw the 3rd argument of arange function and linspace function in arange it is the no. of steps (same as range function) # in linspace it is number(outputs / default is 50) of points you wants\n"
      ],
      "metadata": {
        "colab": {
          "base_uri": "https://localhost:8080/"
        },
        "id": "Ib5dMd2hyLxp",
        "outputId": "90004a42-cbdc-4c24-d8e0-f6fb132b5ab8"
      },
      "execution_count": null,
      "outputs": [
        {
          "output_type": "stream",
          "name": "stdout",
          "text": [
            "[  1.    25.75  50.5   75.25 100.  ]\n",
            "[  1.           3.02040816   5.04081633   7.06122449   9.08163265\n",
            "  11.10204082  13.12244898  15.14285714  17.16326531  19.18367347\n",
            "  21.20408163  23.2244898   25.24489796  27.26530612  29.28571429\n",
            "  31.30612245  33.32653061  35.34693878  37.36734694  39.3877551\n",
            "  41.40816327  43.42857143  45.44897959  47.46938776  49.48979592\n",
            "  51.51020408  53.53061224  55.55102041  57.57142857  59.59183673\n",
            "  61.6122449   63.63265306  65.65306122  67.67346939  69.69387755\n",
            "  71.71428571  73.73469388  75.75510204  77.7755102   79.79591837\n",
            "  81.81632653  83.83673469  85.85714286  87.87755102  89.89795918\n",
            "  91.91836735  93.93877551  95.95918367  97.97959184 100.        ]\n"
          ]
        }
      ]
    },
    {
      "cell_type": "code",
      "source": [],
      "metadata": {
        "id": "uQoKxhAUp29t"
      },
      "execution_count": null,
      "outputs": []
    },
    {
      "cell_type": "code",
      "source": [
        "# identity matrix using numpy\n",
        "\n",
        "np.eye(4)                 # output is a 2D array"
      ],
      "metadata": {
        "colab": {
          "base_uri": "https://localhost:8080/"
        },
        "id": "4Xmd7_re6iiy",
        "outputId": "7f798eef-aeae-4f6b-f4e7-f585f59dd1c9"
      },
      "execution_count": null,
      "outputs": [
        {
          "output_type": "execute_result",
          "data": {
            "text/plain": [
              "array([[1., 0., 0., 0.],\n",
              "       [0., 1., 0., 0.],\n",
              "       [0., 0., 1., 0.],\n",
              "       [0., 0., 0., 1.]])"
            ]
          },
          "metadata": {},
          "execution_count": 38
        }
      ]
    },
    {
      "cell_type": "code",
      "source": [
        "#The random.rand() is a numpy library function that returns an array of random samples from the uniform distribution over [0,1].\n",
        "#It allows dimensions as an argument and returns an array of specified dimensions.\n",
        "# Uniform distribution means a number has equally likely outcomes eg roll dice all output has equally likely outcomes.\n",
        "# here random is an object of some class and rand is the method.\n",
        "# random has a lot of methods\n",
        "\n",
        "import numpy as np\n",
        "print(np.random.rand(6))\n",
        "print(\"\\n\\n\")\n",
        "arr = np.random.rand(6,7)\n",
        "print(arr)\n",
        "print(\"\\n\\n\\n\")\n",
        "print(np.random.rand(2,4,6))"
      ],
      "metadata": {
        "id": "x5rEgL7jAyZQ",
        "colab": {
          "base_uri": "https://localhost:8080/"
        },
        "outputId": "0c06e0fc-f089-4087-ffdb-da16ce3f5ca6"
      },
      "execution_count": null,
      "outputs": [
        {
          "output_type": "stream",
          "name": "stdout",
          "text": [
            "[0.055662   0.720992   0.99088547 0.88247979 0.31563144 0.35787848]\n",
            "\n",
            "\n",
            "\n",
            "[[0.73275585 0.32613199 0.32055063 0.96105942 0.91743673 0.49769609\n",
            "  0.26328839]\n",
            " [0.84227632 0.94722738 0.42051239 0.89494533 0.99694409 0.38127033\n",
            "  0.47277708]\n",
            " [0.09468635 0.80852014 0.31505726 0.48014284 0.65375355 0.88641249\n",
            "  0.60024029]\n",
            " [0.39788645 0.15749261 0.57086079 0.63880578 0.86344638 0.90487417\n",
            "  0.20838583]\n",
            " [0.06439516 0.14026771 0.53852395 0.16584311 0.41463565 0.31249633\n",
            "  0.78539139]\n",
            " [0.39580277 0.71058388 0.04605986 0.95844241 0.60387328 0.10602037\n",
            "  0.00810677]]\n",
            "\n",
            "\n",
            "\n",
            "\n",
            "[[[0.21615368 0.6826059  0.22528577 0.18526911 0.43902484 0.8414224 ]\n",
            "  [0.54143908 0.41393713 0.32312267 0.03307525 0.52497232 0.42981248]\n",
            "  [0.47737077 0.38500058 0.2799955  0.99418101 0.648111   0.70835696]\n",
            "  [0.70116592 0.26852592 0.64420973 0.85364415 0.64512867 0.13821468]]\n",
            "\n",
            " [[0.17907079 0.88599999 0.19204688 0.5066115  0.94648393 0.66964857]\n",
            "  [0.80004088 0.46788457 0.08770264 0.35058195 0.05362985 0.07061796]\n",
            "  [0.01513161 0.85707661 0.4329746  0.88976886 0.32060937 0.80487876]\n",
            "  [0.00923386 0.59019205 0.27501318 0.0834787  0.81622716 0.67890611]]]\n"
          ]
        }
      ]
    },
    {
      "cell_type": "code",
      "source": [
        "#The random.randn() is a numpy library function that returns an array of random samples from the standard normal distribution.\n",
        "#It allows specified dimensions as an argument and returns an array of specified dimensions.\n",
        "#The np.random.randn() function returns all the samples in float form, which are from the univariate “normal” (Gaussian) distribution of mean 0 and variance 1.\n",
        "import numpy as np\n",
        "arr = np.random.randn(6)\n",
        "print(arr)\n",
        "print(\"\\n\\n\")\n",
        "arr1 = np.random.randn(3,6)\n",
        "print(arr1)\n",
        "print(\"\\n\\n\")\n",
        "arr2 = np.random.randn(2,4,8)\n",
        "print(arr2)\n",
        "\n"
      ],
      "metadata": {
        "colab": {
          "base_uri": "https://localhost:8080/"
        },
        "id": "DsKMzs0mogM5",
        "outputId": "531e182d-7abc-428c-d92d-dde2d8740cd4"
      },
      "execution_count": null,
      "outputs": [
        {
          "output_type": "stream",
          "name": "stdout",
          "text": [
            "[-0.1734804  -0.57243444  0.13015047 -1.82153262 -0.28508466 -0.69080378]\n",
            "\n",
            "\n",
            "\n",
            "[[ 1.55736677 -0.57474084 -0.39037593  2.54533059  0.69629027 -1.47140192]\n",
            " [ 0.45864663  0.08330505 -0.81322679  0.31776608 -0.39514501  0.09537329]\n",
            " [ 0.3708675  -0.60383776  0.35162868  1.14004588  1.87644441  0.03145152]]\n",
            "\n",
            "\n",
            "\n",
            "[[[ 0.0670639  -0.20538005 -0.17701948  1.17202549 -0.15721036\n",
            "    1.29334766  1.2204051  -1.36280677]\n",
            "  [ 0.08596033 -0.07005322 -0.95844551 -0.76900008  0.70695725\n",
            "    0.52852218  0.97929045 -0.49718254]\n",
            "  [-0.36755642  0.64801148 -0.708616    0.95948916 -1.07926578\n",
            "   -0.54380361  1.60616041  1.11748295]\n",
            "  [ 0.30383531 -0.51862112  0.33677602 -0.70900459 -1.05588948\n",
            "   -0.2339431  -0.83624789  0.45548479]]\n",
            "\n",
            " [[-1.82658331 -0.74977016 -1.85749389 -1.02564355 -1.82993603\n",
            "    1.29037604 -0.83026951 -1.49886202]\n",
            "  [ 1.63252802  0.29939857 -0.89269574 -0.8340092   0.04396566\n",
            "   -0.10323862  0.33043524  0.06947743]\n",
            "  [-0.95494217  1.01148507  0.28702135  0.28170229  0.52154474\n",
            "    0.06463883  0.54521357 -0.71833254]\n",
            "  [-0.05961745  0.77990523 -0.80333139  1.01305448  0.29548797\n",
            "   -1.33539519  0.53840193 -0.01484768]]]\n"
          ]
        }
      ]
    },
    {
      "cell_type": "code",
      "source": [
        "#The random.randint() is a NumPy library function that returns an array of random integers that are discrete uniform distribution of the specified dtype in the half-open interval [low, high).\n",
        "# inclusive on low end and exclusive on the high end\n",
        "# By default the value of high is None.\n",
        "#If NO value is used for high param then the results are from [0, low).\n",
        "\n",
        "import numpy as np\n",
        "arr = np.random.randint(9)\n",
        "print(arr)\n",
        "print(\"\\n\")\n",
        "arr1 = np.random.randint(low=2,high=8,size=4)\n",
        "print(arr1)\n",
        "print(\"\\n\")\n",
        "arr2 = np.random.randint(low=3,high=99,size=(4,8))\n",
        "print(arr2)\n",
        "print(\"\\n\")\n",
        "arr3 = np.random.randint(low=6, high=36, size=(2,4,8))\n",
        "print(arr3)\n"
      ],
      "metadata": {
        "colab": {
          "base_uri": "https://localhost:8080/"
        },
        "id": "uL6PrPBUv0YE",
        "outputId": "dd61896a-09e1-472c-9a23-42cb8cc963db"
      },
      "execution_count": null,
      "outputs": [
        {
          "output_type": "stream",
          "name": "stdout",
          "text": [
            "6\n",
            "\n",
            "\n",
            "[5 2 6 5]\n",
            "\n",
            "\n",
            "[[42 72 41  9 60 81 71 76]\n",
            " [25 21 94 54 21 47 23 32]\n",
            " [72 11 26 75 64 65 65 78]\n",
            " [26 29  3 40 66 48 60 58]]\n",
            "\n",
            "\n",
            "[[[20 27 17 26 35 25 14 35]\n",
            "  [13 21  6 11 19 30 35 24]\n",
            "  [35 14 21 24  7 34  8 17]\n",
            "  [28 21 34 25 35 29 31 17]]\n",
            "\n",
            " [[ 6 24 22 33 16 16 14 31]\n",
            "  [13  8 18 10 35 26  7 19]\n",
            "  [12  6 13 17 26 15 32 18]\n",
            "  [23 35 18 21 27 14 28 11]]]\n"
          ]
        }
      ]
    },
    {
      "cell_type": "code",
      "source": [
        "# few useful methods and attributes of an array"
      ],
      "metadata": {
        "id": "-tRR3mwu9e76"
      },
      "execution_count": null,
      "outputs": []
    },
    {
      "cell_type": "code",
      "source": [
        "arr1 = np.arange(15)                  # 1D array upto 15\n",
        "print(arr1)\n"
      ],
      "metadata": {
        "colab": {
          "base_uri": "https://localhost:8080/"
        },
        "id": "e86lsFj22jij",
        "outputId": "68efafbe-8ca0-43c3-9dd9-b41eb60f1862"
      },
      "execution_count": null,
      "outputs": [
        {
          "output_type": "stream",
          "name": "stdout",
          "text": [
            "[ 0  1  2  3  4  5  6  7  8  9 10 11 12 13 14]\n"
          ]
        }
      ]
    },
    {
      "cell_type": "code",
      "source": [
        "# reshape method return an array containing the same data of new shape\n",
        "import numpy as np\n",
        "arr1 = np.random.randint(low=10,high= 100, size=(5,8))\n",
        "print(arr1)\n",
        "print(\"\\n\")\n",
        "arr2 = arr1.reshape(2,20)\n",
        "print(arr2)\n",
        "print(\"\\n\")\n",
        "arr3 = arr1.reshape(5,3)                        # this reshape is not possible as total number of elements must be same\n",
        "print(arr3)\n"
      ],
      "metadata": {
        "colab": {
          "base_uri": "https://localhost:8080/",
          "height": 408
        },
        "id": "eons8qVz9iXz",
        "outputId": "a0fa0429-15e6-45b4-c7fe-161dc153a5ec"
      },
      "execution_count": null,
      "outputs": [
        {
          "output_type": "stream",
          "name": "stdout",
          "text": [
            "[[53 15 94 96 75 48 61 70]\n",
            " [11 62 71 15 34 17 40 68]\n",
            " [47 33 57 17 99 72 79 25]\n",
            " [60 88 90 17 95 55 57 93]\n",
            " [70 22 36 16 19 86 28 50]]\n",
            "\n",
            "\n",
            "[[53 15 94 96 75 48 61 70 11 62 71 15 34 17 40 68 47 33 57 17]\n",
            " [99 72 79 25 60 88 90 17 95 55 57 93 70 22 36 16 19 86 28 50]]\n",
            "\n",
            "\n"
          ]
        },
        {
          "output_type": "error",
          "ename": "ValueError",
          "evalue": "ignored",
          "traceback": [
            "\u001b[0;31m---------------------------------------------------------------------------\u001b[0m",
            "\u001b[0;31mValueError\u001b[0m                                Traceback (most recent call last)",
            "\u001b[0;32m<ipython-input-31-3faa028fdb98>\u001b[0m in \u001b[0;36m<cell line: 9>\u001b[0;34m()\u001b[0m\n\u001b[1;32m      7\u001b[0m \u001b[0mprint\u001b[0m\u001b[0;34m(\u001b[0m\u001b[0marr2\u001b[0m\u001b[0;34m)\u001b[0m\u001b[0;34m\u001b[0m\u001b[0;34m\u001b[0m\u001b[0m\n\u001b[1;32m      8\u001b[0m \u001b[0mprint\u001b[0m\u001b[0;34m(\u001b[0m\u001b[0;34m\"\\n\"\u001b[0m\u001b[0;34m)\u001b[0m\u001b[0;34m\u001b[0m\u001b[0;34m\u001b[0m\u001b[0m\n\u001b[0;32m----> 9\u001b[0;31m \u001b[0marr3\u001b[0m \u001b[0;34m=\u001b[0m \u001b[0marr1\u001b[0m\u001b[0;34m.\u001b[0m\u001b[0mreshape\u001b[0m\u001b[0;34m(\u001b[0m\u001b[0;36m5\u001b[0m\u001b[0;34m,\u001b[0m\u001b[0;36m3\u001b[0m\u001b[0;34m)\u001b[0m\u001b[0;34m\u001b[0m\u001b[0;34m\u001b[0m\u001b[0m\n\u001b[0m\u001b[1;32m     10\u001b[0m \u001b[0mprint\u001b[0m\u001b[0;34m(\u001b[0m\u001b[0marr3\u001b[0m\u001b[0;34m)\u001b[0m\u001b[0;34m\u001b[0m\u001b[0;34m\u001b[0m\u001b[0m\n",
            "\u001b[0;31mValueError\u001b[0m: cannot reshape array of size 40 into shape (5,3)"
          ]
        }
      ]
    },
    {
      "cell_type": "code",
      "source": [
        "# max method\n",
        "import numpy as np\n",
        "arr1 = np.random.randint(4,100000, (4,8))\n",
        "print(arr1)\n",
        "print(\"\\n\")\n",
        "print(np.max(arr1))\n",
        "\n"
      ],
      "metadata": {
        "colab": {
          "base_uri": "https://localhost:8080/"
        },
        "id": "ZDyiN0CSDuzp",
        "outputId": "51dd905f-29d1-426d-a49e-e5be8637e550"
      },
      "execution_count": null,
      "outputs": [
        {
          "output_type": "stream",
          "name": "stdout",
          "text": [
            "[[47376 49237 59488  6514 39602 40206  4206 74365]\n",
            " [24225 33514 76673 47847 93670 73588 27705 30467]\n",
            " [63211 28929  6170 20941  2755 70158 17131 29776]\n",
            " [73476 51266  5584  6030 60035 21735 96286 25923]]\n",
            "\n",
            "\n",
            "96286\n"
          ]
        }
      ]
    },
    {
      "cell_type": "code",
      "source": [
        "# min method\n",
        "import numpy as np\n",
        "arr1 = np.random.randint(4,100000, (4,8))\n",
        "print(arr1)\n",
        "print(\"\\n\")\n",
        "print(np.min(arr1))\n"
      ],
      "metadata": {
        "colab": {
          "base_uri": "https://localhost:8080/"
        },
        "id": "tAxzVNEHFno7",
        "outputId": "01040515-5c8e-4fee-91aa-6138ad869097"
      },
      "execution_count": null,
      "outputs": [
        {
          "output_type": "stream",
          "name": "stdout",
          "text": [
            "[[22964 17026 87839 81637 33841 10323 24664 41189]\n",
            " [22391 29887 98694 52475 96700 68175 54968 47094]\n",
            " [72237 44753 25057 87511 69970 49523 63066 32151]\n",
            " [22750 34622 99249 25724 51764 20788 59067 27664]]\n",
            "\n",
            "\n",
            "10323\n"
          ]
        }
      ]
    },
    {
      "cell_type": "code",
      "source": [
        "# find location of max and min values\n",
        "\n",
        "print(np.argmin(arr1))\n"
      ],
      "metadata": {
        "colab": {
          "base_uri": "https://localhost:8080/"
        },
        "id": "FtI282ksF2Wb",
        "outputId": "8eab94b8-0e72-44d6-a050-2c8810643aec"
      },
      "execution_count": null,
      "outputs": [
        {
          "output_type": "stream",
          "name": "stdout",
          "text": [
            "29\n"
          ]
        }
      ]
    },
    {
      "cell_type": "code",
      "source": [
        "# find the shape of the matrix\n",
        "import numpy as np\n",
        "print(np.shape(arr1))                             # in shape counting starts from 1 and so on, Not 0"
      ],
      "metadata": {
        "id": "UwO9muOx1_yu",
        "colab": {
          "base_uri": "https://localhost:8080/"
        },
        "outputId": "d91a5f97-f879-45c2-938f-7eae98caaa41"
      },
      "execution_count": null,
      "outputs": [
        {
          "output_type": "stream",
          "name": "stdout",
          "text": [
            "(4, 8)\n"
          ]
        }
      ]
    },
    {
      "cell_type": "code",
      "source": [
        "# reshape an array\n",
        "import numpy as np\n",
        "\n",
        "arr2 = arr1.reshape(8,4)                                  # in reshape as well the counting starts from 1 and so on, NOT 0\n",
        "print(arr2)\n",
        "print(\"\\n\")\n",
        "arr2 = arr1.reshape(2,16)\n",
        "print(arr2)\n",
        "print(\"\\n\")\n",
        "arr2 = arr1.reshape(32,1)\n",
        "print(arr2)"
      ],
      "metadata": {
        "colab": {
          "base_uri": "https://localhost:8080/"
        },
        "id": "X4D3gDu0smiI",
        "outputId": "1145ea1c-d23e-48a7-c4d4-1670e1647bd1"
      },
      "execution_count": null,
      "outputs": [
        {
          "output_type": "stream",
          "name": "stdout",
          "text": [
            "[[22964 17026 87839 81637]\n",
            " [33841 10323 24664 41189]\n",
            " [22391 29887 98694 52475]\n",
            " [96700 68175 54968 47094]\n",
            " [72237 44753 25057 87511]\n",
            " [69970 49523 63066 32151]\n",
            " [22750 34622 99249 25724]\n",
            " [51764 20788 59067 27664]]\n",
            "\n",
            "\n",
            "[[22964 17026 87839 81637 33841 10323 24664 41189 22391 29887 98694 52475\n",
            "  96700 68175 54968 47094]\n",
            " [72237 44753 25057 87511 69970 49523 63066 32151 22750 34622 99249 25724\n",
            "  51764 20788 59067 27664]]\n",
            "\n",
            "\n",
            "[[22964]\n",
            " [17026]\n",
            " [87839]\n",
            " [81637]\n",
            " [33841]\n",
            " [10323]\n",
            " [24664]\n",
            " [41189]\n",
            " [22391]\n",
            " [29887]\n",
            " [98694]\n",
            " [52475]\n",
            " [96700]\n",
            " [68175]\n",
            " [54968]\n",
            " [47094]\n",
            " [72237]\n",
            " [44753]\n",
            " [25057]\n",
            " [87511]\n",
            " [69970]\n",
            " [49523]\n",
            " [63066]\n",
            " [32151]\n",
            " [22750]\n",
            " [34622]\n",
            " [99249]\n",
            " [25724]\n",
            " [51764]\n",
            " [20788]\n",
            " [59067]\n",
            " [27664]]\n"
          ]
        }
      ]
    },
    {
      "cell_type": "code",
      "source": [
        "# how to know what data type you have in your array\n",
        "\n",
        "print(arr1.dtype)"
      ],
      "metadata": {
        "colab": {
          "base_uri": "https://localhost:8080/"
        },
        "id": "Az2dCvFZwGbO",
        "outputId": "4a97431a-c336-4ea4-f0bd-c6892ac4e06f"
      },
      "execution_count": null,
      "outputs": [
        {
          "output_type": "stream",
          "name": "stdout",
          "text": [
            "int64\n"
          ]
        }
      ]
    },
    {
      "cell_type": "code",
      "source": [
        "# another way to represent random object and use random object module\n",
        "\n",
        "from numpy.random import randint                  # can write 'as' as well\n",
        "print(randint(3,44))"
      ],
      "metadata": {
        "colab": {
          "base_uri": "https://localhost:8080/"
        },
        "id": "0jGz0F3vwb6z",
        "outputId": "b0d6a9f4-5657-4dbe-f1ab-cf06d8c1e849"
      },
      "execution_count": null,
      "outputs": [
        {
          "output_type": "stream",
          "name": "stdout",
          "text": [
            "11\n"
          ]
        }
      ]
    },
    {
      "cell_type": "code",
      "source": [
        "# Numpy Array Indexing\n",
        "# indexing in numpy array is a lot like indexing in Python List\n",
        "# here indexing starts from 0 itself of both rows and columns\n",
        "\n",
        "import numpy as np"
      ],
      "metadata": {
        "id": "NY8VMmeXxltq"
      },
      "execution_count": null,
      "outputs": []
    },
    {
      "cell_type": "code",
      "source": [
        "arr = np.arange(0,11)\n",
        "print(arr)\n",
        "\n",
        "print(arr[7])\n",
        "# slice notation same as list slice notation\n",
        "print(arr[3:8])\n",
        "print(arr[3:8:2])\n",
        "print(arr[ : ])       # in the entire indexing of the array if NO digit is writte and it is empty it means all the values of that part will come\n",
        "print(arr[ :6])\n",
        "print(arr[4: ])"
      ],
      "metadata": {
        "colab": {
          "base_uri": "https://localhost:8080/"
        },
        "id": "dAPF5prK0c7x",
        "outputId": "0f22f563-6f3d-494a-b44b-d44920c9b31c"
      },
      "execution_count": null,
      "outputs": [
        {
          "output_type": "stream",
          "name": "stdout",
          "text": [
            "[ 0  1  2  3  4  5  6  7  8  9 10]\n",
            "7\n",
            "[3 4 5 6 7]\n",
            "[3 5 7]\n",
            "[ 0  1  2  3  4  5  6  7  8  9 10]\n",
            "[0 1 2 3 4 5]\n",
            "[ 4  5  6  7  8  9 10]\n"
          ]
        }
      ]
    },
    {
      "cell_type": "code",
      "source": [
        "# Numpy array is different from python list because of its ability to broadcast\n",
        "# broadcasting eg\n",
        "\n",
        "import numpy as np\n",
        "\n",
        "arr = np.arange(0,11)\n",
        "print(arr)\n",
        "\n",
        "arr[:6] = 99\n",
        "print(arr)\n",
        "print(\"\\n\")\n",
        "arr = np.arange(0,11)\n",
        "\n",
        "slice_of_arr = arr[ :6]         # here change in the slice_of_arr will also change the original array # as numpy will NOT automatically set the copy of array, you havr to specifically indicate that you want a copy using copy method\n",
        "slice_of_arr[ : ] = 88\n",
        "print(slice_of_arr)\n",
        "print(arr)\n",
        "\n",
        "# all the above is a type of broadcasting\n",
        "# if you want to create a seperate array from another array use copy method\n",
        "\n",
        "print(\"\\n\")\n",
        "arr = np.arange(0,11)\n",
        "arr_copy = arr.copy()\n",
        "print(arr_copy)\n",
        "arr_copy[ : ] = 44\n",
        "print(arr_copy)\n",
        "print(arr)                        # now using array copy method NO changes in the original array\n"
      ],
      "metadata": {
        "colab": {
          "base_uri": "https://localhost:8080/"
        },
        "id": "OVvXwzhn4tXT",
        "outputId": "4bdf59af-c3dd-4a7c-cd59-622e3b237252"
      },
      "execution_count": null,
      "outputs": [
        {
          "output_type": "stream",
          "name": "stdout",
          "text": [
            "[ 0  1  2  3  4  5  6  7  8  9 10]\n",
            "[99 99 99 99 99 99  6  7  8  9 10]\n",
            "\n",
            "\n",
            "[88 88 88 88 88 88]\n",
            "[88 88 88 88 88 88  6  7  8  9 10]\n",
            "\n",
            "\n",
            "[ 0  1  2  3  4  5  6  7  8  9 10]\n",
            "[44 44 44 44 44 44 44 44 44 44 44]\n",
            "[ 0  1  2  3  4  5  6  7  8  9 10]\n"
          ]
        }
      ]
    },
    {
      "cell_type": "code",
      "source": [
        "# Indexing  a 2D Array otherwise know as matrix\n",
        "\n",
        "arr2d = np.array([[1,2,3], [4,5,6], [7,8,9], [10,11,12]])\n",
        "print(arr2d)\n"
      ],
      "metadata": {
        "colab": {
          "base_uri": "https://localhost:8080/"
        },
        "id": "JTTpPR3kC0Q1",
        "outputId": "2eabe406-5eb0-4414-9e63-8698484b2779"
      },
      "execution_count": null,
      "outputs": [
        {
          "output_type": "stream",
          "name": "stdout",
          "text": [
            "[[ 1  2  3]\n",
            " [ 4  5  6]\n",
            " [ 7  8  9]\n",
            " [10 11 12]]\n"
          ]
        }
      ]
    },
    {
      "cell_type": "code",
      "source": [
        "# 2 general format for grabing elements from  2D array 1 double bracket format 2 single bracket format with a comma\n",
        "\n",
        "print(arr2d[1][1])\n",
        "print(arr2d[1,1])                            # in all the array after comma there is always a colum # usually used\n"
      ],
      "metadata": {
        "colab": {
          "base_uri": "https://localhost:8080/"
        },
        "id": "uVRHSAfbNT33",
        "outputId": "c0ec4fe6-a3d4-41f4-e961-bad44cf63add"
      },
      "execution_count": null,
      "outputs": [
        {
          "output_type": "stream",
          "name": "stdout",
          "text": [
            "5\n",
            "5\n"
          ]
        }
      ]
    },
    {
      "cell_type": "code",
      "source": [
        "# How to get chunks od elements from matrix eg want a sub matrix from this matrix or grab entire section of elements\n",
        "print(arr2d)\n",
        "print(\"\\n\")\n",
        "print(arr2d[ :2,1: ])                    # here before comma is the row and after comma is the column and : works exactly like slice notation\n",
        "print(\"\\n\")\n",
        "print(arr2d[1:3,1: ])\n",
        "print(\"\\n\")\n",
        "print(arr2d[1:3,1:2])"
      ],
      "metadata": {
        "colab": {
          "base_uri": "https://localhost:8080/"
        },
        "id": "QYPYM8DQO8iZ",
        "outputId": "749ca44c-81fa-4808-dfc0-4af00fdd4b09"
      },
      "execution_count": null,
      "outputs": [
        {
          "output_type": "stream",
          "name": "stdout",
          "text": [
            "[[ 1  2  3]\n",
            " [ 4  5  6]\n",
            " [ 7  8  9]\n",
            " [10 11 12]]\n",
            "\n",
            "\n",
            "[[2 3]\n",
            " [5 6]]\n",
            "\n",
            "\n",
            "[[5 6]\n",
            " [8 9]]\n",
            "\n",
            "\n",
            "[[5]\n",
            " [8]]\n"
          ]
        }
      ]
    },
    {
      "cell_type": "code",
      "source": [
        "# Conditional Selection\n",
        "import numpy as np\n",
        "arr = np.arange(1,11)\n",
        "print(arr)\n",
        "print(arr>6)                         # take arr and combine it with comparision operators to get a boolean array out of this # the dtype of this output will be bool\n",
        "bool_arr = arr>6\n",
        "print(bool_arr.dtype)\n",
        "\n",
        "# now we can use the above to do conditional selection\n",
        "print(arr[bool_arr])                                       # using this we only get the result which is True bool value # this is called conditional selection\n",
        "\n",
        "# insead of doing this in 2 steps you can do this in 1 step ie put the condition and have that selection\n",
        "print(arr[arr>6])"
      ],
      "metadata": {
        "colab": {
          "base_uri": "https://localhost:8080/"
        },
        "id": "zEQRNSTPURVs",
        "outputId": "952d6b9d-13dc-4920-dfae-da06cb2b6fbe"
      },
      "execution_count": null,
      "outputs": [
        {
          "output_type": "stream",
          "name": "stdout",
          "text": [
            "[ 1  2  3  4  5  6  7  8  9 10]\n",
            "[False False False False False False  True  True  True  True]\n",
            "bool\n",
            "[ 7  8  9 10]\n",
            "[ 7  8  9 10]\n"
          ]
        }
      ]
    },
    {
      "cell_type": "code",
      "source": [
        "# calling method off another method\n",
        "import numpy as np\n",
        "array_2d = np.arange(50).reshape(5,10)\n",
        "print(array_2d)\n",
        "\n",
        "# now practice grabing random chunks out of it\n",
        "print(array_2d[1:5,3:7])"
      ],
      "metadata": {
        "colab": {
          "base_uri": "https://localhost:8080/"
        },
        "id": "Yz6pLb0ghv47",
        "outputId": "f087a824-f440-4636-b3f6-af8e89873abd"
      },
      "execution_count": null,
      "outputs": [
        {
          "output_type": "stream",
          "name": "stdout",
          "text": [
            "[[ 0  1  2  3  4  5  6  7  8  9]\n",
            " [10 11 12 13 14 15 16 17 18 19]\n",
            " [20 21 22 23 24 25 26 27 28 29]\n",
            " [30 31 32 33 34 35 36 37 38 39]\n",
            " [40 41 42 43 44 45 46 47 48 49]]\n",
            "[[13 14 15 16]\n",
            " [23 24 25 26]\n",
            " [33 34 35 36]\n",
            " [43 44 45 46]]\n"
          ]
        }
      ]
    },
    {
      "cell_type": "markdown",
      "source": [],
      "metadata": {
        "id": "1ixPxGmOkBf7"
      }
    },
    {
      "cell_type": "code",
      "source": [
        "# Numpy Operations\n"
      ],
      "metadata": {
        "id": "HQbO-n6zkeM2"
      },
      "execution_count": null,
      "outputs": []
    },
    {
      "cell_type": "code",
      "source": [
        "# array with array operation can be used with arithmatic  singhs from python\n",
        "\n",
        "arr = np.arange(0,11)\n",
        "print(arr)\n",
        "print(arr+arr)             # adding an array to itself so the number is doubled\n",
        "print(arr-arr)\n",
        "print(arr*arr)"
      ],
      "metadata": {
        "colab": {
          "base_uri": "https://localhost:8080/"
        },
        "id": "VGSTcY8ukfNF",
        "outputId": "eb0223a7-31d8-4389-e6b1-b1be4198c819"
      },
      "execution_count": null,
      "outputs": [
        {
          "output_type": "stream",
          "name": "stdout",
          "text": [
            "[ 0  1  2  3  4  5  6  7  8  9 10]\n",
            "[ 0  2  4  6  8 10 12 14 16 18 20]\n",
            "[0 0 0 0 0 0 0 0 0 0 0]\n",
            "[  0   1   4   9  16  25  36  49  64  81 100]\n"
          ]
        }
      ]
    },
    {
      "cell_type": "code",
      "source": [
        "# perform array with scalar operations scalar means a single number\n",
        "# the numpy will broadcast the number in every element of the array\n",
        "print(arr+100)\n",
        "print(arr*100)\n",
        "print(arr)\n",
        "print(arr**6)\n",
        "print(arr>6)"
      ],
      "metadata": {
        "colab": {
          "base_uri": "https://localhost:8080/"
        },
        "id": "Z6okni8EpMOR",
        "outputId": "e90b16fa-1104-44f5-e1f0-892ccfcf9e96"
      },
      "execution_count": null,
      "outputs": [
        {
          "output_type": "stream",
          "name": "stdout",
          "text": [
            "[100 101 102 103 104 105 106 107 108 109 110]\n",
            "[   0  100  200  300  400  500  600  700  800  900 1000]\n",
            "[ 0  1  2  3  4  5  6  7  8  9 10]\n",
            "[      0       1      64     729    4096   15625   46656  117649  262144\n",
            "  531441 1000000]\n",
            "[False False False False False False False  True  True  True  True]\n"
          ]
        }
      ]
    },
    {
      "cell_type": "code",
      "source": [
        "# on certain mathematical operations instead of giving an error numpy gives a warning\n",
        "import numpy as np\n",
        "#print(1/0)                               # on this an actual error will be returned\n",
        "print(arr/0)                                  # numpy will not give the same error it will issue a warning we still get the output and nan will also come\n",
        "print(1/arr)                                # in this case it will show infinity instead of null\n",
        "\n",
        "\n"
      ],
      "metadata": {
        "colab": {
          "base_uri": "https://localhost:8080/"
        },
        "id": "oNumNmayqhg7",
        "outputId": "1f0889f7-e852-425a-c701-73ab8e42293b"
      },
      "execution_count": null,
      "outputs": [
        {
          "output_type": "stream",
          "name": "stdout",
          "text": [
            "[nan inf inf inf inf inf inf inf inf inf inf]\n",
            "[       inf 1.         0.5        0.33333333 0.25       0.2\n",
            " 0.16666667 0.14285714 0.125      0.11111111 0.1       ]\n"
          ]
        },
        {
          "output_type": "stream",
          "name": "stderr",
          "text": [
            "<ipython-input-20-577017e6f746>:4: RuntimeWarning: divide by zero encountered in true_divide\n",
            "  print(arr/0)                                  # numpy will not give the same error it will issue a warning we still get the output and nan will also come\n",
            "<ipython-input-20-577017e6f746>:4: RuntimeWarning: invalid value encountered in true_divide\n",
            "  print(arr/0)                                  # numpy will not give the same error it will issue a warning we still get the output and nan will also come\n",
            "<ipython-input-20-577017e6f746>:5: RuntimeWarning: divide by zero encountered in true_divide\n",
            "  print(1/arr)\n"
          ]
        }
      ]
    },
    {
      "cell_type": "code",
      "source": [
        "# numpy universal array function which are just mathematical operations you can use to perform the operation and broadcast in the entire array.\n",
        "print(np.sqrt(arr))\n",
        "print(\"\\n\")\n",
        "print(np.exp(arr))\n",
        "print(\"\\n\")\n",
        "print(np.max(arr))\n",
        "print(np.min(arr))\n",
        "print(\"\\n\")\n",
        "print(np.sin(arr))\n",
        "print(\"\\n\")\n",
        "print(np.log(arr))                # here infinity will show and runtime warning\n"
      ],
      "metadata": {
        "colab": {
          "base_uri": "https://localhost:8080/"
        },
        "id": "6_m9IggFqLit",
        "outputId": "3924d873-6ce7-414b-ecbc-5d97212ada6c"
      },
      "execution_count": null,
      "outputs": [
        {
          "output_type": "stream",
          "name": "stdout",
          "text": [
            "[0.         1.         1.41421356 1.73205081 2.         2.23606798\n",
            " 2.44948974 2.64575131 2.82842712 3.         3.16227766]\n",
            "\n",
            "\n",
            "[1.00000000e+00 2.71828183e+00 7.38905610e+00 2.00855369e+01\n",
            " 5.45981500e+01 1.48413159e+02 4.03428793e+02 1.09663316e+03\n",
            " 2.98095799e+03 8.10308393e+03 2.20264658e+04]\n",
            "\n",
            "\n",
            "10\n",
            "0\n",
            "\n",
            "\n",
            "[ 0.          0.84147098  0.90929743  0.14112001 -0.7568025  -0.95892427\n",
            " -0.2794155   0.6569866   0.98935825  0.41211849 -0.54402111]\n",
            "\n",
            "\n",
            "[      -inf 0.         0.69314718 1.09861229 1.38629436 1.60943791\n",
            " 1.79175947 1.94591015 2.07944154 2.19722458 2.30258509]\n"
          ]
        },
        {
          "output_type": "stream",
          "name": "stderr",
          "text": [
            "<ipython-input-29-8d9717cf6390>:11: RuntimeWarning: divide by zero encountered in log\n",
            "  print(np.log(arr))\n"
          ]
        }
      ]
    }
  ]
}